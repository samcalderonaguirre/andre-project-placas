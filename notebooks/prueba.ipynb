{
 "cells": [
  {
   "cell_type": "code",
   "execution_count": 1,
   "id": "b416cdd8-d1b4-41d6-8cdb-8cac75a4d108",
   "metadata": {},
   "outputs": [],
   "source": [
    "import ipywidgets as widgets"
   ]
  },
  {
   "cell_type": "code",
   "execution_count": 7,
   "id": "596a0179-3215-4e1b-924b-b30504bc44b0",
   "metadata": {},
   "outputs": [
    {
     "data": {
      "application/vnd.jupyter.widget-view+json": {
       "model_id": "31a25a9b14044dfbb6363fdb061267d5",
       "version_major": 2,
       "version_minor": 0
      },
      "text/plain": [
       "FileUpload(value=(), description='Upload')"
      ]
     },
     "metadata": {},
     "output_type": "display_data"
    }
   ],
   "source": [
    "uploader = widgets.FileUpload()\n",
    "display(uploader)"
   ]
  },
  {
   "cell_type": "code",
   "execution_count": 8,
   "id": "7a3d18b3-3e19-4b6b-b051-de103a28e2ee",
   "metadata": {},
   "outputs": [
    {
     "data": {
      "application/vnd.jupyter.widget-view+json": {
       "model_id": "31a25a9b14044dfbb6363fdb061267d5",
       "version_major": 2,
       "version_minor": 0
      },
      "text/plain": [
       "FileUpload(value=({'name': 'territory-ecuador.jpg', 'type': 'image/jpeg', 'size': 274323, 'content': <memory a…"
      ]
     },
     "metadata": {},
     "output_type": "display_data"
    }
   ],
   "source": [
    "display(uploader)"
   ]
  },
  {
   "cell_type": "code",
   "execution_count": 9,
   "id": "798fc652-d356-418f-ba21-13ea5e7807e8",
   "metadata": {},
   "outputs": [
    {
     "data": {
      "text/plain": [
       "({'name': 'territory-ecuador.jpg',\n",
       "  'type': 'image/jpeg',\n",
       "  'size': 274323,\n",
       "  'content': <memory at 0x7f65f0148340>,\n",
       "  'last_modified': datetime.datetime(2023, 1, 12, 15, 27, 48, 613000, tzinfo=datetime.timezone.utc)},)"
      ]
     },
     "execution_count": 9,
     "metadata": {},
     "output_type": "execute_result"
    }
   ],
   "source": [
    "uploader.value"
   ]
  },
  {
   "cell_type": "code",
   "execution_count": 10,
   "id": "485d6047-9c70-45aa-b640-435ed7b5994d",
   "metadata": {},
   "outputs": [],
   "source": [
    "uploaded_file = uploader.value[0]"
   ]
  },
  {
   "cell_type": "code",
   "execution_count": 11,
   "id": "279f6e9c-6024-4897-81eb-691b8e1c8c23",
   "metadata": {},
   "outputs": [
    {
     "data": {
      "text/plain": [
       "274323"
      ]
     },
     "execution_count": 11,
     "metadata": {},
     "output_type": "execute_result"
    }
   ],
   "source": [
    "uploaded_file[\"size\"]"
   ]
  },
  {
   "cell_type": "code",
   "execution_count": 12,
   "id": "f1af85b7-c6b2-4175-a854-6dddd490488a",
   "metadata": {},
   "outputs": [
    {
     "data": {
      "text/plain": [
       "274323"
      ]
     },
     "execution_count": 12,
     "metadata": {},
     "output_type": "execute_result"
    }
   ],
   "source": [
    "uploaded_file.size"
   ]
  },
  {
   "cell_type": "code",
   "execution_count": 13,
   "id": "a434787b-75ee-4459-b573-39e55482f44c",
   "metadata": {},
   "outputs": [
    {
     "data": {
      "text/plain": [
       "<memory at 0x7f65f0148340>"
      ]
     },
     "execution_count": 13,
     "metadata": {},
     "output_type": "execute_result"
    }
   ],
   "source": [
    "uploaded_file.content"
   ]
  },
  {
   "cell_type": "code",
   "execution_count": 15,
   "id": "57c73a99-2581-4ac0-8bd5-c2a5f668d3ee",
   "metadata": {},
   "outputs": [
    {
     "data": {
      "application/vnd.jupyter.widget-view+json": {
       "model_id": "7b769f8e99774ca7adf2b599471fec78",
       "version_major": 2,
       "version_minor": 0
      },
      "text/plain": [
       "Image(value=b'\\xff\\xd8\\xff\\xe0\\x00\\x10JFIF\\x00\\x01\\x01\\x00\\x00\\x01\\x00\\x01\\x00\\x00\\xff\\xdb\\x00\\x84\\x00\\x06\\x04…"
      ]
     },
     "execution_count": 15,
     "metadata": {},
     "output_type": "execute_result"
    }
   ],
   "source": [
    "widgets.Image(value=uploaded_file.content.tobytes())"
   ]
  },
  {
   "cell_type": "code",
   "execution_count": 22,
   "id": "6de32a59-7906-4131-90fc-5bc473fd5199",
   "metadata": {},
   "outputs": [],
   "source": [
    "with open(\"./saved-output.jpg\", \"wb\") as fp:\n",
    "    fp.write(uploaded_file.content)\n"
   ]
  },
  {
   "cell_type": "code",
   "execution_count": 23,
   "id": "03122859-a43e-4c9c-9e1e-b69cdd9a4af0",
   "metadata": {},
   "outputs": [
    {
     "data": {
      "application/vnd.jupyter.widget-view+json": {
       "model_id": "cbbebe4341844e0b9c81f5b9a342e0aa",
       "version_major": 2,
       "version_minor": 0
      },
      "text/plain": [
       "Image(value=b'\\xff\\xd8\\xff\\xe0\\x00\\x10JFIF\\x00\\x01\\x01\\x00\\x00\\x01\\x00\\x01\\x00\\x00\\xff\\xdb\\x00\\x84\\x00\\x06\\x04…"
      ]
     },
     "execution_count": 23,
     "metadata": {},
     "output_type": "execute_result"
    }
   ],
   "source": [
    "widgets.Image(value=uploaded_file.content.tobytes())"
   ]
  },
  {
   "cell_type": "code",
   "execution_count": 26,
   "id": "d6f8d0e5-fc35-4edd-875b-adfa4dd4d984",
   "metadata": {},
   "outputs": [],
   "source": [
    "#pip install mysql-connector ----> instalar conector de mysql"
   ]
  },
  {
   "cell_type": "code",
   "execution_count": 27,
   "id": "3c90d449-d96c-4e8a-a9d2-73843da5bfc5",
   "metadata": {},
   "outputs": [
    {
     "name": "stdout",
     "output_type": "stream",
     "text": [
      "('information_schema',)\n",
      "('mysql',)\n",
      "('performance_schema',)\n",
      "('phpmyadmin',)\n",
      "('test',)\n",
      "('vehiculos',)\n"
     ]
    }
   ],
   "source": [
    "#Mostrar datos del servidor Mysql y todas las BD\n",
    "import mysql.connector\n",
    "\n",
    "conexion1=mysql.connector.connect(host=\"localhost\", user=\"root\", passwd=\"\")\n",
    "cursor1=conexion1.cursor()\n",
    "cursor1.execute(\"show databases\")\n",
    "for base in cursor1:\n",
    "    print(base)\n",
    "conexion1.close()  "
   ]
  },
  {
   "cell_type": "code",
   "execution_count": 28,
   "id": "aa94169f-9d5d-41f8-8a2a-4fc77747b19f",
   "metadata": {},
   "outputs": [
    {
     "name": "stdout",
     "output_type": "stream",
     "text": [
      "('app_autos_vehiculo',)\n",
      "('auth_group',)\n",
      "('auth_group_permissions',)\n",
      "('auth_permission',)\n",
      "('auth_user',)\n",
      "('auth_user_groups',)\n",
      "('auth_user_user_permissions',)\n",
      "('django_admin_log',)\n",
      "('django_content_type',)\n",
      "('django_migrations',)\n",
      "('django_session',)\n"
     ]
    }
   ],
   "source": [
    "#Listado de todas las tablas de una base de datos de MySQL.\n",
    "conexion1=mysql.connector.connect(host=\"localhost\", \n",
    "                                  user=\"root\", \n",
    "                                  passwd=\"\", \n",
    "                                  database=\"vehiculos\")\n",
    "cursor1=conexion1.cursor()\n",
    "cursor1.execute(\"show tables\")\n",
    "for tabla in cursor1:\n",
    "    print(tabla)\n",
    "conexion1.close() "
   ]
  },
  {
   "cell_type": "code",
   "execution_count": 37,
   "id": "868085f9-a9ee-4783-8803-b695a2775cbd",
   "metadata": {},
   "outputs": [
    {
     "name": "stdout",
     "output_type": "stream",
     "text": [
      "('AFO01234',)\n",
      "('AWE3698',)\n",
      "('APE9398',)\n",
      "('APE9398',)\n"
     ]
    }
   ],
   "source": [
    "#Recuperar todas las filas de una tabla.\n",
    "#Listado de todas las tablas de una base de datos de MySQL.\n",
    "conexion1=mysql.connector.connect(host=\"localhost\", \n",
    "                                  user=\"root\", \n",
    "                                  passwd=\"\", \n",
    "                                  database=\"vehiculos\")\n",
    "cursor1=conexion1.cursor()\n",
    "cursor1.execute(\"select placa from app_autos_vehiculo\")\n",
    "for fila in cursor1:\n",
    "    print(fila)\n",
    "conexion1.close()  "
   ]
  },
  {
   "cell_type": "code",
   "execution_count": null,
   "id": "a70f6bba-8d04-46f5-ab71-c49f1e935354",
   "metadata": {},
   "outputs": [],
   "source": []
  }
 ],
 "metadata": {
  "kernelspec": {
   "display_name": "Python 3 (ipykernel)",
   "language": "python",
   "name": "python3"
  },
  "language_info": {
   "codemirror_mode": {
    "name": "ipython",
    "version": 3
   },
   "file_extension": ".py",
   "mimetype": "text/x-python",
   "name": "python",
   "nbconvert_exporter": "python",
   "pygments_lexer": "ipython3",
   "version": "3.11.1"
  }
 },
 "nbformat": 4,
 "nbformat_minor": 5
}
